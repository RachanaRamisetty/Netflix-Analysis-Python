{
 "cells": [
  {
   "cell_type": "code",
   "execution_count": 1,
   "id": "36774c74",
   "metadata": {},
   "outputs": [
    {
     "ename": "ModuleNotFoundError",
     "evalue": "No module named 'fuzzywuzzy'",
     "output_type": "error",
     "traceback": [
      "\u001b[1;31m---------------------------------------------------------------------------\u001b[0m",
      "\u001b[1;31mModuleNotFoundError\u001b[0m                       Traceback (most recent call last)",
      "Input \u001b[1;32mIn [1]\u001b[0m, in \u001b[0;36m<cell line: 5>\u001b[1;34m()\u001b[0m\n\u001b[0;32m      3\u001b[0m \u001b[38;5;28;01mfrom\u001b[39;00m \u001b[38;5;21;01mmatplotlib\u001b[39;00m \u001b[38;5;28;01mimport\u001b[39;00m pyplot \u001b[38;5;28;01mas\u001b[39;00m plt\n\u001b[0;32m      4\u001b[0m \u001b[38;5;28;01mimport\u001b[39;00m \u001b[38;5;21;01mnumpy\u001b[39;00m \u001b[38;5;28;01mas\u001b[39;00m \u001b[38;5;21;01mnp\u001b[39;00m\n\u001b[1;32m----> 5\u001b[0m \u001b[38;5;28;01mfrom\u001b[39;00m \u001b[38;5;21;01mfuzzywuzzy\u001b[39;00m \u001b[38;5;28;01mimport\u001b[39;00m fuzz\n\u001b[0;32m      6\u001b[0m \u001b[38;5;28;01mfrom\u001b[39;00m \u001b[38;5;21;01mmultiprocessing\u001b[39;00m \u001b[38;5;28;01mimport\u001b[39;00m Pool\n\u001b[0;32m      7\u001b[0m \u001b[38;5;28;01mfrom\u001b[39;00m \u001b[38;5;21;01mtime\u001b[39;00m \u001b[38;5;28;01mimport\u001b[39;00m time\n",
      "\u001b[1;31mModuleNotFoundError\u001b[0m: No module named 'fuzzywuzzy'"
     ]
    }
   ],
   "source": [
    "import os \n",
    "import pandas as pd\n",
    "from matplotlib import pyplot as plt\n",
    "import numpy as np\n",
    "from fuzzywuzzy import fuzz\n",
    "from multiprocessing import Pool\n",
    "from time import time\n",
    "from scipy import interpolate"
   ]
  },
  {
   "cell_type": "markdown",
   "id": "9aeab631",
   "metadata": {},
   "source": [
    "https://datasets.imdbws.com/\n",
    "https://www.kaggle.com/datasets/shivamb/netflix-shows"
   ]
  },
  {
   "cell_type": "markdown",
   "id": "80f4e67b",
   "metadata": {},
   "source": [
    "### Data Cleaning and Processing"
   ]
  },
  {
   "cell_type": "code",
   "execution_count": null,
   "id": "7a8da980",
   "metadata": {
    "scrolled": true
   },
   "outputs": [],
   "source": [
    "# reading data sets\n",
    "df_netflix = pd.read_csv(\"NetflixData/Content/netflix_titles.csv\")\n",
    "df_titles = pd.read_csv(\"NetflixData/Content/titles.csv\")\n",
    "df_ratings = pd.read_csv(\"NetflixData/Content/ratings.csv\")\n",
    "\n",
    "# Selecting required fields and joining data frames \n",
    "df_netflix = df_netflix[['title','date_added']]\n",
    "df_titles = df_titles[['tconst','primaryTitle']]\n",
    "\n",
    "# joining imbdb data sets\n",
    "df_imdb = pd.merge(df_titles,df_ratings,how=\"inner\",left_on=\"tconst\",right_on=\"tconst\")\n",
    "\n",
    "# Generating all imdb title\n",
    "imdb_titles = [x for x in df_imdb['primaryTitle'].values]"
   ]
  },
  {
   "cell_type": "code",
   "execution_count": null,
   "id": "65c43020",
   "metadata": {},
   "outputs": [],
   "source": [
    "df_imdb.head(2)"
   ]
  },
  {
   "cell_type": "code",
   "execution_count": null,
   "id": "d6f1b7d2",
   "metadata": {
    "scrolled": true
   },
   "outputs": [],
   "source": [
    "# Function to fetch rating from Imbdb data and generate report of matched titles\n",
    "\n",
    "# Code commented due to large runtime of 8 hrs. Results are saved and loaded from \n",
    "# csv file for Future use.\n",
    "\n",
    "# matched_report = {\"Netflix\":[],\"Imdb\":[],\"Ratio\":[],\"Votes\":[],\"Rating\":[]}\n",
    "# for x in df_netflix.iterrows():\n",
    "#     title = x[1][0]\n",
    "#     with Pool() as pool:\n",
    "#         args = zip([title.lower()]*len(imdb_titles),[x.lower() for x in imdb_titles])\n",
    "#         ratios = pool.starmap(fuzz.ratio,args)\n",
    "#     maxx = max(ratios)\n",
    "#     inx = ratios.index(maxx)\n",
    "#     matched_title = imdb_titles[inx]\n",
    "#     rating = float(df_imdb[df_imdb['primaryTitle']==matched_title]['averageRating'].values[0])\n",
    "#     votes = float(df_imdb[df_imdb['primaryTitle']==matched_title]['numVotes'].values[0])\n",
    "#     print(title,matched_title,rating,votes)\n",
    "        \n",
    "#     matched_report[\"Netflix\"].append(title)\n",
    "#     matched_report[\"Imdb\"].append(matched_title)\n",
    "#     matched_report['Rating'].append(rating)\n",
    "#     matched_report[\"Votes\"].append(votes)\n",
    "#     matched_report['Ratio'].append(maxx)\n",
    "    \n",
    "# matched_report = pd.DataFrame(matched_report)    \n",
    "matched_report = pd.read_csv('matched_report.csv')\n",
    "\n"
   ]
  },
  {
   "cell_type": "code",
   "execution_count": null,
   "id": "50874311",
   "metadata": {},
   "outputs": [],
   "source": [
    "matched_report.head(2)"
   ]
  },
  {
   "cell_type": "code",
   "execution_count": null,
   "id": "5a354bb3",
   "metadata": {},
   "outputs": [],
   "source": [
    "df_netflix.head(2)"
   ]
  },
  {
   "cell_type": "code",
   "execution_count": null,
   "id": "1c464a12",
   "metadata": {},
   "outputs": [],
   "source": [
    "# Data Loss curve based on threshold of similarity \n",
    "# Here we make the assumption that availiablity or similarity of name in the IMDB dataset is \n",
    "# independent of rating and hence a sufficient size sample will give a reasonable \n",
    "# estimate of the mean.\n",
    "# As we are getting a sufficient samples even at a high threshhold we are setting \n",
    "# limits of similarity to 95 % and avoid any possible mismatching.\n",
    "plt.figure(figsize=(5,5))\n",
    "plt.plot(range(0,100,1),[len(matched_report[matched_report['Ratio']>x]) for x in range(0,100,1)])\n",
    "plt.axvline(95,linestyle=\":\",color=\"black\")\n",
    "plt.axhline(2597,linestyle=\":\",color=\"black\")\n",
    "plt.xlabel('Threshold Ratio')\n",
    "plt.ylabel('Number of Titles Matched')\n",
    "plt.title('Fig 1(Appendix) : Number of Titles Matched vs Threshold of fuzzy matching',fontsize=12)\n",
    "plt.savefig(\"content_fig_1(appendix).png\")\n",
    "plt.show()"
   ]
  },
  {
   "cell_type": "code",
   "execution_count": null,
   "id": "6e4e27f6",
   "metadata": {},
   "outputs": [],
   "source": [
    "# Filtering and Joining netflix data to matched titles\n",
    "df_final = pd.merge(df_netflix,matched_report[matched_report['Ratio']>95] \\\n",
    "                    [[\"Netflix\",\"Rating\",\"Votes\"]],how='inner',right_on=\"Netflix\", \\\n",
    "                    left_on=\"title\").drop(\"Netflix\",axis=1)\n",
    "\n",
    "# Convertting to datetime and calculating year and quarter.\n",
    "\n",
    "df_final[\"date_added\"] = pd.to_datetime(df_final[\"date_added\"])\n",
    "\n",
    "def quarter(x):\n",
    "    month = x['date_added'].month\n",
    "    if month%3>0:\n",
    "        return int(month/3) + 1\n",
    "    else :\n",
    "        return month/3\n",
    "    \n",
    "def year(x):\n",
    "    return x['date_added'].year\n",
    "\n",
    "df_final = df_final.dropna()\n",
    "df_final[\"Quarter\"] = df_final.apply(lambda x:quarter(x),axis=1)\n",
    "df_final[\"Year\"] = df_final.apply(lambda x:year(x),axis=1)\n",
    "\n",
    "# Top ten Percentile titles.\n",
    "imdb_sorted = df_imdb.sort_values(\"averageRating\",ascending=False)\n",
    "top_ten_rating = imdb_sorted.iloc[int(len(imdb_sorted)/10)]['averageRating']\n",
    "def top_ten(x):\n",
    "    rating = x[\"Rating\"]\n",
    "    if rating >= top_ten_rating:\n",
    "        return 1\n",
    "    else:\n",
    "        return 0\n",
    "\n",
    "df_final[\"Top Ranked\"] = df_final.apply(lambda x:top_ten(x),axis=1)\n",
    "df_final[\"Show Added\"] = 1\n",
    "\n",
    "df_Netflix = df_final.groupby([\"Year\",\"Quarter\"],as_index=False).mean()\n",
    "df_Netflix[\"Top Ranked\"] = df_final.groupby([\"Year\",\"Quarter\"],as_index=False).sum()[\"Top Ranked\"]\n",
    "df_Netflix[\"Number of Titles Added\"] = df_final.groupby([\"Year\",\"Quarter\"],as_index=False).sum()[\"Show Added\"]\n",
    "\n",
    "df_Netflix = df_Netflix[df_Netflix[\"Year\"]>=2018]\n",
    "df_Netflix['Date'] = df_Netflix['Year'].astype('str')+[\"-\"]*len(df_Netflix)+df_Netflix['Quarter'].astype('str')\n",
    "\n",
    "\n",
    "# Calculating Rank/Percentile of Content \n",
    "\n",
    "def percentile(x):\n",
    "    rating = x['Rating']\n",
    "    return len(df_imdb[df_imdb[\"averageRating\"]<rating])/len(df_imdb)*100\n",
    "df_Netflix['Percentile'] = df_Netflix.apply(lambda x:percentile(x),axis=1)\n",
    "\n"
   ]
  },
  {
   "cell_type": "code",
   "execution_count": null,
   "id": "5e062819",
   "metadata": {},
   "outputs": [],
   "source": [
    "df_Netflix"
   ]
  },
  {
   "cell_type": "code",
   "execution_count": null,
   "id": "c7aea882",
   "metadata": {},
   "outputs": [],
   "source": [
    "df_final.groupby([\"Year\",\"Quarter\"],as_index=False).sum()"
   ]
  },
  {
   "cell_type": "code",
   "execution_count": null,
   "id": "a56744cd",
   "metadata": {},
   "outputs": [],
   "source": [
    "df_final"
   ]
  },
  {
   "cell_type": "code",
   "execution_count": null,
   "id": "f754b9b0",
   "metadata": {},
   "outputs": [],
   "source": [
    "type(imdb_sorted.iloc[int(len(imdb_sorted)/10)]['averageRating'])"
   ]
  },
  {
   "cell_type": "code",
   "execution_count": null,
   "id": "7fffe50d",
   "metadata": {},
   "outputs": [],
   "source": [
    "df_Netflix.head(2)"
   ]
  },
  {
   "cell_type": "markdown",
   "id": "9ed17470",
   "metadata": {},
   "source": [
    "### DATA VISUALISATION"
   ]
  },
  {
   "cell_type": "code",
   "execution_count": null,
   "id": "e4c19b10",
   "metadata": {},
   "outputs": [],
   "source": [
    "fig = plt.figure(figsize=(15, 7.5))\n",
    "fig.suptitle(\"Fig 1: Netflix Content Average Reviews\",fontsize=24)\n",
    "plt.plot(range(len(df_Netflix)),df_Netflix['Rating'])\n",
    "plt.axvline(7,linestyle=\":\",color=\"black\")\n",
    "plt.xlabel('Quarter')\n",
    "plt.ylabel('Average IMDB Rating')\n",
    "plt.savefig(\"content_fig_1.png\")\n",
    "print(\"Note : Each index of x axis cooresponds to a quarter. With index zero for 2018 Q1 and index 17 for 2022 Q2\")"
   ]
  },
  {
   "cell_type": "code",
   "execution_count": null,
   "id": "c361b226",
   "metadata": {},
   "outputs": [],
   "source": [
    "fig = plt.figure(figsize=(15, 7.5))\n",
    "fig.suptitle(\"Fig 2: Netflix Content Percentile of Average Reviews\",fontsize=24)\n",
    "plt.plot(range(len(df_Netflix)),df_Netflix['Percentile'])\n",
    "plt.axvline(7,linestyle=\":\",color=\"black\")\n",
    "plt.xlabel('Quarter')\n",
    "plt.savefig(\"content_fig_2.png\")\n",
    "print(\"Note : Each index of x axis cooresponds to a quarter. With index zero for 2018 Q1 and index 17 for 2022 Q2\")"
   ]
  },
  {
   "cell_type": "code",
   "execution_count": null,
   "id": "6b575d55",
   "metadata": {},
   "outputs": [],
   "source": [
    "fig = plt.figure(figsize=(15,7.5))\n",
    "fig.suptitle(\"Fig 3: Netflix Content - Top 10 Percentile Content\",fontsize=24)\n",
    "plt.plot(range(len(df_Netflix)),df_Netflix['Top Ranked'])\n",
    "plt.axvline(7,linestyle=\":\",color=\"black\")\n",
    "plt.xlabel('Quarter')\n",
    "plt.savefig(\"content_fig_3.png\")\n",
    "print(\"Note : Each index of x axis cooresponds to a quarter. With index zero for 2018 Q1 and index 17 for 2022 Q2\")"
   ]
  },
  {
   "cell_type": "code",
   "execution_count": null,
   "id": "54e2a14e",
   "metadata": {
    "scrolled": true
   },
   "outputs": [],
   "source": [
    "fig = plt.figure(figsize=(15,7.5)\\\n",
    "                 \n",
    "fig.suptitle(\"Fig 4: Netflix Content - Number of Titles Added in the quarter\",fontsize=24)\n",
    "plt.plot(range(len(df_Netflix)),df_Netflix['Number of Titles Added'])\n",
    "plt.axvline(7,linestyle=\":\",color=\"black\")\n",
    "plt.xlabel('Quarter')\n",
    "plt.savefig(\"content_fig_3.png\")\n",
    "print(\"Note : Each index of x axis cooresponds to a quarter. With index zero for 2018 Q1 and index 17 for 2022 Q2\")"
   ]
  },
  {
   "cell_type": "code",
   "execution_count": null,
   "id": "9d9bb63f",
   "metadata": {},
   "outputs": [],
   "source": []
  }
 ],
 "metadata": {
  "kernelspec": {
   "display_name": "Python 3 (ipykernel)",
   "language": "python",
   "name": "python3"
  },
  "language_info": {
   "codemirror_mode": {
    "name": "ipython",
    "version": 3
   },
   "file_extension": ".py",
   "mimetype": "text/x-python",
   "name": "python",
   "nbconvert_exporter": "python",
   "pygments_lexer": "ipython3",
   "version": "3.9.12"
  }
 },
 "nbformat": 4,
 "nbformat_minor": 5
}
